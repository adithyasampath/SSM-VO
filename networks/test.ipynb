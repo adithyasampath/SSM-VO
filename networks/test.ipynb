{
 "cells": [
  {
   "cell_type": "code",
   "execution_count": 2,
   "metadata": {},
   "outputs": [
    {
     "name": "stderr",
     "output_type": "stream",
     "text": [
      "/home/aditya/anaconda3/envs/adi/lib/python3.8/site-packages/tqdm/auto.py:22: TqdmWarning: IProgress not found. Please update jupyter and ipywidgets. See https://ipywidgets.readthedocs.io/en/stable/user_install.html\n",
      "  from .autonotebook import tqdm as notebook_tqdm\n"
     ]
    },
    {
     "ename": "NameError",
     "evalue": "name 'read_files' is not defined",
     "output_type": "error",
     "traceback": [
      "\u001b[0;31m---------------------------------------------------------------------------\u001b[0m",
      "\u001b[0;31mNameError\u001b[0m                                 Traceback (most recent call last)",
      "Cell \u001b[0;32mIn [2], line 7\u001b[0m\n\u001b[1;32m      5\u001b[0m poses_dir \u001b[39m=\u001b[39m \u001b[39m'\u001b[39m\u001b[39m/home/aditya/SSM-VO/dataset/poses\u001b[39m\u001b[39m'\u001b[39m\n\u001b[1;32m      6\u001b[0m reqd_files \u001b[39m=\u001b[39m [os\u001b[39m.\u001b[39mpath\u001b[39m.\u001b[39mjoin(poses_dir, \u001b[39m\"\u001b[39m\u001b[39m{:02d}\u001b[39;00m\u001b[39m.txt\u001b[39m\u001b[39m\"\u001b[39m\u001b[39m.\u001b[39mformat(idx)) \u001b[39mfor\u001b[39;00m idx \u001b[39min\u001b[39;00m \u001b[39mrange\u001b[39m(\u001b[39m1\u001b[39m, \u001b[39m9\u001b[39m)]\n\u001b[0;32m----> 7\u001b[0m data \u001b[39m=\u001b[39m read_files(reqd_files)\n\u001b[1;32m      9\u001b[0m data \u001b[39m=\u001b[39m []\n\u001b[1;32m     10\u001b[0m \u001b[39mfor\u001b[39;00m idx \u001b[39min\u001b[39;00m \u001b[39mrange\u001b[39m(\u001b[39m1\u001b[39m, \u001b[39m9\u001b[39m):\n",
      "\u001b[0;31mNameError\u001b[0m: name 'read_files' is not defined"
     ]
    }
   ],
   "source": [
    "import os\n",
    "import torch\n",
    "import numpy as np\n",
    "\n",
    "poses_dir = '/home/aditya/SSM-VO/dataset/poses'\n",
    "reqd_files = [os.path.join(poses_dir, \"{:02d}.txt\".format(idx)) for idx in range(1, 9)]\n",
    "# data = read_files(reqd_files)\n",
    "\n",
    "data = []\n",
    "for idx in range(1, 9):\n",
    "    data.append(open(reqd_files[idx]).readlines())\n",
    "data[0]"
   ]
  },
  {
   "cell_type": "code",
   "execution_count": null,
   "metadata": {},
   "outputs": [],
   "source": []
  }
 ],
 "metadata": {
  "kernelspec": {
   "display_name": "Python 3.8.15 ('adi': conda)",
   "language": "python",
   "name": "python3"
  },
  "language_info": {
   "codemirror_mode": {
    "name": "ipython",
    "version": 3
   },
   "file_extension": ".py",
   "mimetype": "text/x-python",
   "name": "python",
   "nbconvert_exporter": "python",
   "pygments_lexer": "ipython3",
   "version": "3.8.15"
  },
  "orig_nbformat": 4,
  "vscode": {
   "interpreter": {
    "hash": "1dfe2ea80f9dde804c12f385e3b7ddc064468faa70c678b79f7851865103f230"
   }
  }
 },
 "nbformat": 4,
 "nbformat_minor": 2
}
